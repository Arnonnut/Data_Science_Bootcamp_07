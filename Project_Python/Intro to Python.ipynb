{
 "cells":[
  {
   "cell_type":"markdown",
   "source":[
    "# Review Python Language"
   ],
   "attachments":{
    
   },
   "metadata":{
    "datalore":{
     "node_id":"sY7Eo5optQCguiHWeatack",
     "type":"MD",
     "hide_input_from_viewers":false,
     "hide_output_from_viewers":false,
     "report_properties":{
      "rowId":"ZZOPJ0tp2mO7FA0WlnppqU"
     }
    }
   }
  },
  {
   "cell_type":"code",
   "source":[
    "print(\"hello world\")"
   ],
   "execution_count":1,
   "outputs":[
    {
     "name":"stdout",
     "text":[
      "hello world\n"
     ],
     "output_type":"stream"
    }
   ],
   "metadata":{
    "datalore":{
     "node_id":"yCeEfo8foFeVmWd3ogWL5i",
     "type":"CODE",
     "hide_input_from_viewers":false,
     "hide_output_from_viewers":false,
     "report_properties":{
      "rowId":"PIdZNPhjvuqNza3cb89X5R"
     }
    }
   }
  },
  {
   "cell_type":"code",
   "source":[
    "my_name = \"Toy\"\n",
    "my_age = 33"
   ],
   "execution_count":3,
   "outputs":[
    
   ],
   "metadata":{
    "datalore":{
     "node_id":"hAZlg4nWdEKDaXeUG2Y7gn",
     "type":"CODE",
     "hide_input_from_viewers":false,
     "hide_output_from_viewers":false,
     "report_properties":{
      "rowId":"VAGgbWRqFzCeo1W9MvUtgx"
     }
    }
   }
  },
  {
   "cell_type":"code",
   "source":[
    "print(my_name)\n",
    "print(my_age)\n",
    "print(1 + 1)"
   ],
   "execution_count":6,
   "outputs":[
    {
     "name":"stdout",
     "text":[
      "Toy\n",
      "33\n",
      "2\n"
     ],
     "output_type":"stream"
    }
   ],
   "metadata":{
    "datalore":{
     "node_id":"hPV0Vv5BCefcDGAKvwRzfv",
     "type":"CODE",
     "hide_input_from_viewers":false,
     "hide_output_from_viewers":false,
     "report_properties":{
      "rowId":"CBbehW41qWdbZpqw49fZD5"
     }
    }
   }
  },
  {
   "cell_type":"code",
   "source":[
    "# string & fstring in Python\n",
    "my_name = \"Toy\"\n",
    "my_university = 'Kasetsart'\n",
    "\n",
    "my_long_string = \"\"\"This is a very long\n",
    "    This is a second line\n",
    "    This is a third line\n",
    "\"\"\"\n",
    "\n",
    "print(my_name, my_university, my_long_string)"
   ],
   "execution_count":7,
   "outputs":[
    {
     "name":"stdout",
     "text":[
      "Toy Kasetsart This is a very long\n",
      "    This is a second line\n",
      "    This is a third line\n",
      "\n"
     ],
     "output_type":"stream"
    }
   ],
   "metadata":{
    "datalore":{
     "node_id":"eDZanIRn1kBqc3gLFvrPQI",
     "type":"CODE",
     "hide_input_from_viewers":false,
     "hide_output_from_viewers":false,
     "report_properties":{
      "rowId":"VFaI0wobUpGEDWcqBnOVwO"
     }
    }
   }
  },
  {
   "cell_type":"code",
   "source":[
    "# fstring template\n",
    "my_name = \"Toy\"\n",
    "my_age = 33\n",
    "\n",
    "text = f\"my name is {my_name}, and I am {my_age} year old.\"\n",
    "print(text)"
   ],
   "execution_count":8,
   "outputs":[
    {
     "name":"stdout",
     "text":[
      "my name is Toy, and I am 33 year old.\n"
     ],
     "output_type":"stream"
    }
   ],
   "metadata":{
    "datalore":{
     "node_id":"4tHbawNjBJCLGmlya82FUw",
     "type":"CODE",
     "hide_input_from_viewers":false,
     "hide_output_from_viewers":false,
     "report_properties":{
      "rowId":"9wp9Yr6zKePPzpbYvptXVR"
     }
    }
   }
  },
  {
   "cell_type":"code",
   "source":[
    "# function designed for string (string methods)\n",
    "text = \"a duck walks into a bar\""
   ],
   "execution_count":19,
   "outputs":[
    
   ],
   "metadata":{
    "datalore":{
     "node_id":"Ln00mk20R7HUwz7fw1b7Wz",
     "type":"CODE",
     "hide_input_from_viewers":false,
     "hide_output_from_viewers":false,
     "report_properties":{
      "rowId":"R6bSF8D4nWld94IFdPzgXW"
     }
    }
   }
  },
  {
   "cell_type":"code",
   "source":[
    "text.upper()"
   ],
   "execution_count":11,
   "outputs":[
    {
     "data":{
      "text\/plain":[
       "'A DUCK WALKS INTO A BAR'"
      ]
     },
     "metadata":{
      
     },
     "output_type":"display_data"
    }
   ],
   "metadata":{
    "datalore":{
     "node_id":"j4cv7gXcaW1umqlz1T2NfJ",
     "type":"CODE",
     "hide_input_from_viewers":false,
     "hide_output_from_viewers":false,
     "report_properties":{
      "rowId":"JpVzgFNGjXo7r07G4YRFBY"
     }
    }
   }
  },
  {
   "cell_type":"code",
   "source":[
    "\"HELLO WORLD\".lower()"
   ],
   "execution_count":12,
   "outputs":[
    {
     "data":{
      "text\/plain":[
       "'hello world'"
      ]
     },
     "metadata":{
      
     },
     "output_type":"display_data"
    }
   ],
   "metadata":{
    "datalore":{
     "node_id":"bsHDxXxqHMFSoOXsPz4M9r",
     "type":"CODE",
     "hide_input_from_viewers":false,
     "hide_output_from_viewers":false,
     "report_properties":{
      "rowId":"L3R5oufdrU470C1atCCN48"
     }
    }
   }
  },
  {
   "cell_type":"code",
   "source":[
    "text.count(\"duck\")"
   ],
   "execution_count":17,
   "outputs":[
    {
     "data":{
      "text\/plain":[
       "1"
      ]
     },
     "metadata":{
      
     },
     "output_type":"display_data"
    }
   ],
   "metadata":{
    "datalore":{
     "node_id":"vh7Qx9MKRIzL4hYFTTxBN8",
     "type":"CODE",
     "hide_input_from_viewers":false,
     "hide_output_from_viewers":false,
     "report_properties":{
      "rowId":"12MeQ7Vzx9f4v37MmZeXsh"
     }
    }
   }
  },
  {
   "cell_type":"code",
   "source":[
    "text2 = text.replace('duck', 'lion')\n",
    "print(text)\n",
    "print(text2)"
   ],
   "execution_count":22,
   "outputs":[
    {
     "name":"stdout",
     "text":[
      "a duck walks into a bar\n",
      "a lion walks into a bar\n"
     ],
     "output_type":"stream"
    }
   ],
   "metadata":{
    "datalore":{
     "node_id":"Mlni41u9m8gJrNA3gtjskx",
     "type":"CODE",
     "hide_input_from_viewers":false,
     "hide_output_from_viewers":false,
     "report_properties":{
      "rowId":"ljDTijyP2HO7DP0pa5DpJ6"
     }
    }
   }
  },
  {
   "cell_type":"code",
   "source":[
    "# list\n",
    "shopping_list = ['egg', 'mike', 'bread']\n",
    "print(shopping_list)"
   ],
   "execution_count":23,
   "outputs":[
    {
     "name":"stdout",
     "text":[
      "['egg', 'mike', 'bread']\n"
     ],
     "output_type":"stream"
    }
   ],
   "metadata":{
    "datalore":{
     "node_id":"j1CQv9pujtiEeiaE3fCzMh",
     "type":"CODE",
     "hide_input_from_viewers":false,
     "hide_output_from_viewers":false,
     "report_properties":{
      "rowId":"gMfWJrobc5jNkV23pEDBxm"
     }
    }
   }
  },
  {
   "cell_type":"code",
   "source":[
    "print(shopping_list[0:2])"
   ],
   "execution_count":28,
   "outputs":[
    {
     "name":"stdout",
     "text":[
      "['egg', 'mike']\n"
     ],
     "output_type":"stream"
    }
   ],
   "metadata":{
    "datalore":{
     "node_id":"BNWdL8nO1RQihNgXuHEGoN",
     "type":"CODE",
     "hide_input_from_viewers":false,
     "hide_output_from_viewers":false,
     "report_properties":{
      "rowId":"TgaadR36wz4T4XKKu5c7NQ"
     }
    }
   }
  },
  {
   "cell_type":"code",
   "source":[
    "# List method = append\n",
    "shopping_list.append('orange juice')\n",
    "print(shopping_list)"
   ],
   "execution_count":29,
   "outputs":[
    {
     "name":"stdout",
     "text":[
      "['egg', 'mike', 'bread', 'orange juice']\n"
     ],
     "output_type":"stream"
    }
   ],
   "metadata":{
    "datalore":{
     "node_id":"BVDaGLTeqSanSHTvROdeOe",
     "type":"CODE",
     "hide_input_from_viewers":false,
     "hide_output_from_viewers":false,
     "report_properties":{
      "rowId":"OVqEL9Akp99mfYyJqJTYYw"
     }
    }
   }
  },
  {
   "cell_type":"code",
   "source":[
    "shopping_list.append('water bottle')\n",
    "print(shopping_list)"
   ],
   "execution_count":31,
   "outputs":[
    {
     "name":"stdout",
     "text":[
      "['egg', 'mike', 'bread', 'orange juice', 'water bottle', 'water bottle']\n"
     ],
     "output_type":"stream"
    }
   ],
   "metadata":{
    "datalore":{
     "node_id":"5FooVLCBGiRVEhhmvUbEsd",
     "type":"CODE",
     "hide_input_from_viewers":false,
     "hide_output_from_viewers":false,
     "report_properties":{
      "rowId":"Cg2y6kIJt6dTwTDwb8euHs"
     }
    }
   }
  },
  {
   "cell_type":"code",
   "source":[
    "# list method .pop()\n",
    "shopping_list.pop()"
   ],
   "execution_count":35,
   "outputs":[
    {
     "data":{
      "text\/plain":[
       "'water bottle'"
      ]
     },
     "metadata":{
      
     },
     "output_type":"display_data"
    }
   ],
   "metadata":{
    "datalore":{
     "node_id":"TcLBmvRvMgRty2e1tYI0lI",
     "type":"CODE",
     "hide_input_from_viewers":false,
     "hide_output_from_viewers":false,
     "report_properties":{
      "rowId":"2UY6OIMiDbQWO6zvwfxU4v"
     }
    }
   }
  },
  {
   "cell_type":"code",
   "source":[
    "shopping_list"
   ],
   "execution_count":36,
   "outputs":[
    {
     "data":{
      "text\/plain":[
       "['egg', 'mike', 'bread', 'orange juice']"
      ]
     },
     "metadata":{
      
     },
     "output_type":"display_data"
    }
   ],
   "metadata":{
    "datalore":{
     "node_id":"Y6ZciAnyJfj026yBYqFi4Q",
     "type":"CODE",
     "hide_input_from_viewers":false,
     "hide_output_from_viewers":false,
     "report_properties":{
      "rowId":"uqBG2L7wvvY48z3eWimqXB"
     }
    }
   }
  },
  {
   "cell_type":"code",
   "source":[
    "len(shopping_list)"
   ],
   "execution_count":37,
   "outputs":[
    {
     "data":{
      "text\/plain":[
       "4"
      ]
     },
     "metadata":{
      
     },
     "output_type":"display_data"
    }
   ],
   "metadata":{
    "datalore":{
     "node_id":"u8L6aJXkzk3FAvyq0aXK7X",
     "type":"CODE",
     "hide_input_from_viewers":false,
     "hide_output_from_viewers":false,
     "report_properties":{
      "rowId":"S5PvSnuZegaZ8c3cRNMSK2"
     }
    }
   }
  },
  {
   "cell_type":"code",
   "source":[
    "# dictionary key-value pair\n",
    "\n",
    "student = {\n",
    "    \"id\" : 1,\n",
    "    \"name\": \"Marry\",\n",
    "    \"age\": 22,\n",
    "    \"movies\": [\"Spider Man\", \"Thor\", \"Iron Man 3\"]\n",
    "}"
   ],
   "execution_count":38,
   "outputs":[
    
   ],
   "metadata":{
    "datalore":{
     "node_id":"wuliamMNIXIbEg4PGFpCkj",
     "type":"CODE",
     "hide_input_from_viewers":false,
     "hide_output_from_viewers":false,
     "report_properties":{
      "rowId":"q6ZQ6zd6HaC86SvjH6QYTw"
     }
    }
   }
  },
  {
   "cell_type":"code",
   "source":[
    "student['movies'][2]"
   ],
   "execution_count":46,
   "outputs":[
    {
     "data":{
      "text\/plain":[
       "'Iron Man 3'"
      ]
     },
     "metadata":{
      
     },
     "output_type":"display_data"
    }
   ],
   "metadata":{
    "datalore":{
     "node_id":"YD3PkSzpNDwYOLzpwfB8Ig",
     "type":"CODE",
     "hide_input_from_viewers":false,
     "hide_output_from_viewers":false,
     "report_properties":{
      "rowId":"tOvt1FdyERcNCPvG4k7v00"
     }
    }
   }
  },
  {
   "cell_type":"code",
   "source":[
    "student['city'] = 'London'\n",
    "student"
   ],
   "execution_count":48,
   "outputs":[
    {
     "data":{
      "text\/plain":[
       "{'id': 1,\n",
       " 'name': 'Marry',\n",
       " 'age': 22,\n",
       " 'movies': ['Spider Man', 'Thor', 'Iron Man 3'],\n",
       " 'city': 'London'}"
      ]
     },
     "metadata":{
      
     },
     "output_type":"display_data"
    }
   ],
   "metadata":{
    "datalore":{
     "node_id":"dxvOXtadLMsHnOCBOAi4SY",
     "type":"CODE",
     "hide_input_from_viewers":false,
     "hide_output_from_viewers":false,
     "report_properties":{
      "rowId":"dPN4VK6wP3QsbxwpCi3KEk"
     }
    }
   }
  },
  {
   "cell_type":"code",
   "source":[
    "#update value\n",
    "student['city'] = 'Manchester'\n",
    "student"
   ],
   "execution_count":50,
   "outputs":[
    {
     "data":{
      "text\/plain":[
       "{'id': 1,\n",
       " 'name': 'Marry',\n",
       " 'age': 22,\n",
       " 'movies': ['Spider Man', 'Thor', 'Iron Man 3'],\n",
       " 'city': 'Manchester'}"
      ]
     },
     "metadata":{
      
     },
     "output_type":"display_data"
    }
   ],
   "metadata":{
    "datalore":{
     "node_id":"4CZcBseZSw6e4z6dAb6wiC",
     "type":"CODE",
     "hide_input_from_viewers":false,
     "hide_output_from_viewers":false,
     "report_properties":{
      "rowId":"ckocBQQSkoB8r4L5PMlkRc"
     }
    }
   }
  },
  {
   "cell_type":"code",
   "source":[
    "# remove key-value\n",
    "del student['city']\n",
    "student"
   ],
   "execution_count":54,
   "outputs":[
    {
     "data":{
      "text\/plain":[
       "{'id': 1,\n",
       " 'name': 'Marry',\n",
       " 'age': 22,\n",
       " 'movies': ['Spider Man', 'Thor', 'Iron Man 3']}"
      ]
     },
     "metadata":{
      
     },
     "output_type":"display_data"
    }
   ],
   "metadata":{
    "datalore":{
     "node_id":"Icf7pQrewZsboq9qwVpphK",
     "type":"CODE",
     "hide_input_from_viewers":false,
     "hide_output_from_viewers":false,
     "report_properties":{
      "rowId":"5UoeFqxu5Qc9GDUPW9Olog"
     }
    }
   }
  },
  {
   "cell_type":"code",
   "source":[
    "# user-defined function\n",
    "def hello(username):\n",
    "    print(\"Hello!\" + username)"
   ],
   "execution_count":57,
   "outputs":[
    
   ],
   "metadata":{
    "datalore":{
     "node_id":"DsU3y3ZDXlnuxOXgoK9C6e",
     "type":"CODE",
     "hide_input_from_viewers":false,
     "hide_output_from_viewers":false,
     "report_properties":{
      "rowId":"fh0q3T3WmTZKf2HS8Rg7Ay"
     }
    }
   }
  },
  {
   "cell_type":"code",
   "source":[
    "hello(\"toy\")"
   ],
   "execution_count":59,
   "outputs":[
    {
     "name":"stdout",
     "text":[
      "Hello!toy\n"
     ],
     "output_type":"stream"
    }
   ],
   "metadata":{
    "datalore":{
     "node_id":"ha7uHrjMYg3S22U5g3tjhK",
     "type":"CODE",
     "hide_input_from_viewers":false,
     "hide_output_from_viewers":false,
     "report_properties":{
      "rowId":"FvmJcCGM4KAtPcjd5V7qQW"
     }
    }
   }
  },
  {
   "cell_type":"code",
   "source":[
    "def my_sum(val1, val2):\n",
    "    return val1 + val2\n",
    "result = my_sum(5, 15)"
   ],
   "execution_count":63,
   "outputs":[
    
   ],
   "metadata":{
    "datalore":{
     "node_id":"9nIwVxrpeWbSK3iUweN0Pe",
     "type":"CODE",
     "hide_input_from_viewers":false,
     "hide_output_from_viewers":false,
     "report_properties":{
      "rowId":"0SzfrgPUelNCf2n6v29xbe"
     }
    }
   }
  },
  {
   "cell_type":"code",
   "source":[
    "print(result)"
   ],
   "execution_count":64,
   "outputs":[
    {
     "name":"stdout",
     "text":[
      "20\n"
     ],
     "output_type":"stream"
    }
   ],
   "metadata":{
    "datalore":{
     "node_id":"q9UVmp1SycF1R3KJA0GQji",
     "type":"CODE",
     "hide_input_from_viewers":false,
     "hide_output_from_viewers":false,
     "report_properties":{
      "rowId":"8oETh0Llyk1FBrBMTxL9vR"
     }
    }
   }
  },
  {
   "cell_type":"code",
   "source":[
    "class  Dog:\n",
    "    name = \"Toy\"\n",
    "    age = 5\n",
    "    color = \"Brown\"\n",
    "    breed = \"French Bulldog\"\n",
    "\n",
    "#function (Dog method)\n",
    "    def sitting(self):\n",
    "        print(\"I am sitting now!\")\n",
    "    \n",
    "    def hungry(self, food_name):\n",
    "        print(f\"I am hungry, I need {food_name}!\")"
   ],
   "execution_count":108,
   "outputs":[
    
   ],
   "metadata":{
    "datalore":{
     "node_id":"hy3IxX0gBToBfvhnHAijy4",
     "type":"CODE",
     "hide_input_from_viewers":false,
     "hide_output_from_viewers":false,
     "report_properties":{
      "rowId":"EV6DnmL0hXzJubic2BixUZ"
     }
    }
   }
  },
  {
   "cell_type":"code",
   "source":[
    "my_dog = Dog()\n",
    "type(my_dog)"
   ],
   "execution_count":109,
   "outputs":[
    {
     "data":{
      "text\/plain":[
       "__main__.Dog"
      ]
     },
     "metadata":{
      
     },
     "output_type":"display_data"
    }
   ],
   "metadata":{
    "datalore":{
     "node_id":"JX664Guz71l658fAgCesVl",
     "type":"CODE",
     "hide_input_from_viewers":false,
     "hide_output_from_viewers":false,
     "report_properties":{
      "rowId":"I5yePr7hFOYLOwq5f0wGbC"
     }
    }
   }
  },
  {
   "cell_type":"code",
   "source":[
    "my_dog.sitting()"
   ],
   "execution_count":110,
   "outputs":[
    {
     "name":"stdout",
     "text":[
      "I am sitting now!\n"
     ],
     "output_type":"stream"
    }
   ],
   "metadata":{
    "datalore":{
     "node_id":"77DpJJMPvCmPGxws1A5E6C",
     "type":"CODE",
     "hide_input_from_viewers":false,
     "hide_output_from_viewers":false,
     "report_properties":{
      "rowId":"L3OAVnNGWYungUGx2Vm6l0"
     }
    }
   }
  },
  {
   "cell_type":"code",
   "source":[
    "my_dog.hungry(\"Pizza\")"
   ],
   "execution_count":112,
   "outputs":[
    {
     "name":"stdout",
     "text":[
      "I am hungry, I need Pizza!\n"
     ],
     "output_type":"stream"
    }
   ],
   "metadata":{
    "datalore":{
     "node_id":"ZWbmtwMi6gXMmsjz6B9hMZ",
     "type":"CODE",
     "hide_input_from_viewers":false,
     "hide_output_from_viewers":false,
     "report_properties":{
      "rowId":"gEWbp9AEiKu2RJUG9kVzwW"
     }
    }
   }
  }
 ],
 "metadata":{
  "kernelspec":{
   "display_name":"Python",
   "language":"python",
   "name":"python"
  },
  "datalore":{
   "computation_mode":"JUPYTER",
   "package_manager":"pip",
   "base_environment":"default",
   "packages":[
    
   ],
   "report_row_ids":[
    "ZZOPJ0tp2mO7FA0WlnppqU",
    "PIdZNPhjvuqNza3cb89X5R",
    "VAGgbWRqFzCeo1W9MvUtgx",
    "CBbehW41qWdbZpqw49fZD5",
    "VFaI0wobUpGEDWcqBnOVwO",
    "9wp9Yr6zKePPzpbYvptXVR",
    "R6bSF8D4nWld94IFdPzgXW",
    "JpVzgFNGjXo7r07G4YRFBY",
    "L3R5oufdrU470C1atCCN48",
    "12MeQ7Vzx9f4v37MmZeXsh",
    "ljDTijyP2HO7DP0pa5DpJ6",
    "gMfWJrobc5jNkV23pEDBxm",
    "TgaadR36wz4T4XKKu5c7NQ",
    "OVqEL9Akp99mfYyJqJTYYw",
    "Cg2y6kIJt6dTwTDwb8euHs",
    "2UY6OIMiDbQWO6zvwfxU4v",
    "uqBG2L7wvvY48z3eWimqXB",
    "S5PvSnuZegaZ8c3cRNMSK2",
    "q6ZQ6zd6HaC86SvjH6QYTw",
    "tOvt1FdyERcNCPvG4k7v00",
    "dPN4VK6wP3QsbxwpCi3KEk",
    "ckocBQQSkoB8r4L5PMlkRc",
    "5UoeFqxu5Qc9GDUPW9Olog",
    "fh0q3T3WmTZKf2HS8Rg7Ay",
    "FvmJcCGM4KAtPcjd5V7qQW",
    "0SzfrgPUelNCf2n6v29xbe",
    "8oETh0Llyk1FBrBMTxL9vR",
    "EV6DnmL0hXzJubic2BixUZ",
    "I5yePr7hFOYLOwq5f0wGbC",
    "L3OAVnNGWYungUGx2Vm6l0",
    "gEWbp9AEiKu2RJUG9kVzwW"
   ],
   "version":3
  }
 },
 "nbformat":4,
 "nbformat_minor":4
}